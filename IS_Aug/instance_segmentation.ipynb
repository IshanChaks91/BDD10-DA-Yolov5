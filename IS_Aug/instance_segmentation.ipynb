{
 "cells": [
  {
   "cell_type": "code",
   "execution_count": 10,
   "metadata": {},
   "outputs": [],
   "source": [
    "import cv2\n",
    "import json\n",
    "import glob\n",
    "import numpy as np\n",
    "import matplotlib.pyplot as plt\n",
    "from shapely.geometry import Polygon\n",
    "from matplotlib.patches import Polygon as Poly\n",
    "import os\n",
    "import shutil"
   ]
  },
  {
   "cell_type": "code",
   "execution_count": null,
   "metadata": {},
   "outputs": [],
   "source": [
    "# %matplotlib notebook"
   ]
  },
  {
   "cell_type": "code",
   "execution_count": 11,
   "metadata": {},
   "outputs": [],
   "source": [
    "train_label_location = '/scratch/ichakr2s/yolov5pytorch/train/labels/'\n",
    "val_label_location = '/scratch/ichakr2s/yolov5pytorch/val/labels/'\n",
    "train_img_location = '/scratch/ichakr2s/yolov5pytorch/train/images/'\n",
    "val_image_location = '/scratch/ichakr2s/yolov5pytorch/val/images/'\n",
    "train_category_dir_location = '/scratch/ichakr2s/yolov5pytorch_aug/train/'\n",
    "val_category_dir_location = '/scratch/ichakr2s/yolov5pytorch_aug/val/'\n",
    "train_label_bdd10k_json_location = '/scratch/ichakr2s/bdd100k/data/labels/10k/ins_seg/polygons/'\n",
    "train_label_aug_location = '/scratch/ichakr2s/yolov5pytorch_aug/train/'"
   ]
  },
  {
   "cell_type": "code",
   "execution_count": 21,
   "metadata": {},
   "outputs": [
    {
     "data": {
      "text/plain": [
       "['car',\n",
       " 'person',\n",
       " 'truck',\n",
       " 'bus',\n",
       " 'bicycle',\n",
       " 'rider',\n",
       " 'trailer',\n",
       " 'motorcycle',\n",
       " 'caravan',\n",
       " 'train']"
      ]
     },
     "execution_count": 21,
     "metadata": {},
     "output_type": "execute_result"
    }
   ],
   "source": [
    "# read bdd10k instance segmentation train json file to create all available categories \n",
    "\n",
    "with open(train_label_bdd10k_json_location + 'ins_seg_train.json', 'r') as f:\n",
    "    bdd10k_train_json = json.load(f)\n",
    "bdd10k_category_list = []\n",
    "for img in bdd10k_train_json:\n",
    "  for properties in img['labels']:\n",
    "    if properties['category'] not in bdd10k_category_list:\n",
    "      bdd10k_category_list.append(properties['category'])\n",
    "# for img in bdd10k_val_json:\n",
    "#   for properties in img['labels']:\n",
    "#     if properties['category'] not in bdd10k_category_list:\n",
    "#       bdd10k_category_list.append(properties['category'])\n",
    "bdd10k_category_list"
   ]
  },
  {
   "cell_type": "code",
   "execution_count": null,
   "metadata": {},
   "outputs": [],
   "source": [
    "# create "
   ]
  },
  {
   "cell_type": "code",
   "execution_count": null,
   "metadata": {},
   "outputs": [],
   "source": [
    "for cat in bdd10k_category_list:\n",
    "    for filename in os.listdir(train_label_aug_location + cat + '/labels/'):\n",
    "        print(cat)\n",
    "        print(filename)\n",
    "        break\n",
    "    break\n",
    "        "
   ]
  }
 ],
 "metadata": {
  "kernelspec": {
   "display_name": "Python 3.8.1 ('BDD10-DA-Yolov5': conda)",
   "language": "python",
   "name": "python3"
  },
  "language_info": {
   "codemirror_mode": {
    "name": "ipython",
    "version": 3
   },
   "file_extension": ".py",
   "mimetype": "text/x-python",
   "name": "python",
   "nbconvert_exporter": "python",
   "pygments_lexer": "ipython3",
   "version": "3.8.1"
  },
  "orig_nbformat": 4,
  "vscode": {
   "interpreter": {
    "hash": "28e819611b9da552db2308feb575a63f93964633eede1beb0ca8e75a41c5ca6e"
   }
  }
 },
 "nbformat": 4,
 "nbformat_minor": 2
}
