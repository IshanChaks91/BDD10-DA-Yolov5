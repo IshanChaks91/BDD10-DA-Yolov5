{
 "cells": [
  {
   "cell_type": "code",
   "execution_count": 1,
   "metadata": {},
   "outputs": [],
   "source": [
    "import cv2\n",
    "import json\n",
    "import glob\n",
    "import numpy as np\n",
    "import matplotlib.pyplot as plt\n",
    "from shapely.geometry import Polygon\n",
    "from matplotlib.patches import Polygon as Poly"
   ]
  },
  {
   "cell_type": "code",
   "execution_count": 2,
   "metadata": {},
   "outputs": [],
   "source": [
    "dir_location = '/scratch/ichakr2s/bdd100k/data/labels/10k/ins_seg/polygons/'\n",
    "train_location = '/scratch/ichakr2s/bdd100k/data/images/10k/train/'\n",
    "output_location = '/scratch/ichakr2s/yolov5pytorch_aug/is_bdd10k/aug_images_by_category/'"
   ]
  },
  {
   "cell_type": "code",
   "execution_count": 3,
   "metadata": {},
   "outputs": [],
   "source": [
    "with open(dir_location + 'ins_seg_train.json', 'r') as f:\n",
    "    bdd_data = json.load(f)"
   ]
  },
  {
   "cell_type": "code",
   "execution_count": 9,
   "metadata": {},
   "outputs": [],
   "source": [
    "bdd10k_category_list = []\n",
    "for img in bdd_data:\n",
    "  for properties in img['labels']:\n",
    "    if properties['category'] not in bdd10k_category_list:\n",
    "      bdd10k_category_list.append(properties['category'])"
   ]
  },
  {
   "cell_type": "code",
   "execution_count": 5,
   "metadata": {},
   "outputs": [],
   "source": [
    "file_names = []\n",
    "for idx in range(len(bdd_data)):\n",
    "    for lab in bdd_data[idx]['labels']:\n",
    "        if lab['category'] == 'person':\n",
    "            file_names.append(bdd_data[idx])\n",
    "            break"
   ]
  },
  {
   "cell_type": "code",
   "execution_count": 15,
   "metadata": {},
   "outputs": [],
   "source": [
    "trname = file_names[0]['name']\n",
    "img = cv2.imread(train_location + trname)\n",
    "img_height = img.shape[0]\n",
    "img_width = img.shape[1]"
   ]
  },
  {
   "cell_type": "code",
   "execution_count": 18,
   "metadata": {},
   "outputs": [],
   "source": [
    "def make_label(file_name_str, train_img):\n",
    "    strinG = ''\n",
    "    for label in train_img['labels']:\n",
    "        poly = Polygon(label['poly2d'][0]['vertices'])\n",
    "        cat = bdd10k_category_list.index(label['category'])\n",
    "        centr_xy =  poly.centroid.xy\n",
    "        centr_x = centr_xy[0][0]/img_width\n",
    "        centr_y = centr_xy[1][0]/img_height\n",
    "        minx, miny, maxx, maxy = poly.bounds\n",
    "        width, height = (maxx - minx)/img_width, (maxy - miny)/img_height\n",
    "        if height > 1.0:\n",
    "            height = 0.999999\n",
    "        if width > 1.0:\n",
    "            width = 0.999999\n",
    "        if centr_x > 1.0:\n",
    "            centr_x = 0.999999\n",
    "        if centr_y > 1.0:\n",
    "            centr_y = 0.999999\n",
    "        strinG += str(cat) + ' ' + str(centr_x) + ' ' + str(centr_y) + ' ' + str(width) + ' ' + str(height)  + '\\n'\n",
    "\n",
    "    with open(output_location + 'synth_labels/' + file_name_str + '.txt' , 'w') as f:\n",
    "        f.write(strinG)\n",
    "\n",
    "def swap(i1, i2, idx_1_2, swap_idx):\n",
    "    \n",
    "    image1 = cv2.imread(train_location + i1['name'])\n",
    "    annot1 = i1['labels'][idx_1_2[swap_idx][0]]\n",
    "    roi_corners1 = np.array([annot1['poly2d'][0]['vertices']], dtype=np.int32)\n",
    "    roi_mean1 = np.mean(roi_corners1[0], axis=0)\n",
    "    roi_norm1 = roi_corners1[0] - roi_mean1\n",
    "    xmin1 = np.min(roi_corners1[0][:,0])\n",
    "    xmax1 = np.max(roi_corners1[0][:,0])\n",
    "    ymin1 = np.min(roi_corners1[0][:,1])\n",
    "    ymax1 = np.max(roi_corners1[0][:,1])\n",
    "    \n",
    "    image2 = cv2.imread(train_location + i2['name'])\n",
    "    annot2 = i2['labels'][idx_1_2[swap_idx][1]]\n",
    "    roi_corners2 = np.array([annot2['poly2d'][0]['vertices']], dtype=np.int32)\n",
    "    roi_mean2 = np.mean(roi_corners2[0], axis=0)\n",
    "    roi_norm2 = roi_corners2[0] - roi_mean2\n",
    "    xmin2 = np.min(roi_corners2[0][:,0])\n",
    "    xmax2 = np.max(roi_corners2[0][:,0])\n",
    "    ymin2 = np.min(roi_corners2[0][:,1])\n",
    "    ymax2 = np.max(roi_corners2[0][:,1])\n",
    "    \n",
    "    mask1 = np.ones(image1.shape, dtype=np.uint8)\n",
    "    mask1.fill(255)\n",
    "    cv2.fillPoly(mask1, roi_corners1, 0)\n",
    "    masked_image1 = cv2.bitwise_or(image1, mask1)\n",
    "    masking_obj1 = masked_image1[ymin1:ymax1, xmin1:xmax1]\n",
    "    masked_image1 = np.ones(image2.shape, dtype=np.uint8)\n",
    "    masked_image1.fill(255)\n",
    "    masking_obj1 = cv2.resize(masking_obj1, (xmax2-xmin2, ymax2-ymin2), interpolation = cv2.INTER_AREA)\n",
    "    masked_image1[ymin2:ymax2, xmin2:xmax2] = masking_obj1\n",
    "    img2_mask = np.vstack((((xmax2-xmin2)/float(xmax1-xmin1))*roi_norm1[:,0], ((ymax2-ymin2)/float(ymax1-ymin1))*roi_norm1[:,1])).T    \n",
    "    mask2 = np.ones(image2.shape, dtype=np.uint8)\n",
    "    mask2.fill(255)\n",
    "    cv2.fillPoly(mask2, np.array([img2_mask+roi_mean2], dtype=np.int), 0)\n",
    "    mask2 = 255 - mask2\n",
    "    mask2 = cv2.blur(mask2,(5,5))\n",
    "    masked_image2 = cv2.bitwise_or(image2, mask2)\n",
    "    swapped_1 = cv2.bitwise_and(masked_image1, masked_image2)\n",
    "    \n",
    "    mask2 = np.ones(image2.shape, dtype=np.uint8)\n",
    "    mask2.fill(255)\n",
    "    cv2.fillPoly(mask2, roi_corners2, 0)\n",
    "    masked_image2 = cv2.bitwise_or(image2, mask2)\n",
    "    masking_obj2 = masked_image2[ymin2:ymax2, xmin2:xmax2]\n",
    "    masked_image2 = np.ones(image1.shape, dtype=np.uint8)\n",
    "    masked_image2.fill(255)\n",
    "    masking_obj2 = cv2.resize(masking_obj2, (xmax1-xmin1, ymax1-ymin1), interpolation = cv2.INTER_AREA)\n",
    "    masked_image2[ymin1:ymax1, xmin1:xmax1] = masking_obj2\n",
    "    img1_mask = np.vstack((((xmax1-xmin1)/float(xmax2-xmin2))*roi_norm2[:,0], ((ymax1-ymin1)/float(ymax2-ymin2))*roi_norm2[:,1])).T\n",
    "    mask1 = np.ones(image1.shape, dtype=np.uint8)\n",
    "    mask1.fill(255)\n",
    "    cv2.fillPoly(mask1, np.array([img1_mask+roi_mean1], dtype=np.int), 0)\n",
    "    mask1 = 255 - mask1\n",
    "    mask1 = cv2.blur(mask1,(5,5))\n",
    "    masked_image1 = cv2.bitwise_or(image1, mask1)\n",
    "    swapped_2 = cv2.bitwise_and(masked_image2, masked_image1)\n",
    "    \n",
    "    return swapped_1, swapped_2"
   ]
  },
  {
   "cell_type": "code",
   "execution_count": 21,
   "metadata": {},
   "outputs": [
    {
     "name": "stderr",
     "output_type": "stream",
     "text": [
      "/tmp/ipykernel_280940/974710775.py:59: DeprecationWarning: `np.int` is a deprecated alias for the builtin `int`. To silence this warning, use `int` by itself. Doing this will not modify any behavior and is safe. When replacing `np.int`, you may wish to use e.g. `np.int64` or `np.int32` to specify the precision. If you wish to review your current use, check the release note link for additional information.\n",
      "Deprecated in NumPy 1.20; for more details and guidance: https://numpy.org/devdocs/release/1.20.0-notes.html#deprecations\n",
      "  cv2.fillPoly(mask2, np.array([img2_mask+roi_mean2], dtype=np.int), 0)\n",
      "/tmp/ipykernel_280940/974710775.py:77: DeprecationWarning: `np.int` is a deprecated alias for the builtin `int`. To silence this warning, use `int` by itself. Doing this will not modify any behavior and is safe. When replacing `np.int`, you may wish to use e.g. `np.int64` or `np.int32` to specify the precision. If you wish to review your current use, check the release note link for additional information.\n",
      "Deprecated in NumPy 1.20; for more details and guidance: https://numpy.org/devdocs/release/1.20.0-notes.html#deprecations\n",
      "  cv2.fillPoly(mask1, np.array([img1_mask+roi_mean1], dtype=np.int), 0)\n",
      "/tmp/ipykernel_280940/2790970320.py:23: RuntimeWarning: divide by zero encountered in double_scalars\n",
      "  ann2_ratio = (np.max(shape2[:,1])-np.min(shape2[:,1]))/(np.max(shape2[:,0])-np.min(shape2[:,0]))\n",
      "/tmp/ipykernel_280940/2790970320.py:23: RuntimeWarning: invalid value encountered in double_scalars\n",
      "  ann2_ratio = (np.max(shape2[:,1])-np.min(shape2[:,1]))/(np.max(shape2[:,0])-np.min(shape2[:,0]))\n"
     ]
    },
    {
     "ename": "ValueError",
     "evalue": "could not broadcast input array from shape (95,40,3) into shape (95,39,3)",
     "output_type": "error",
     "traceback": [
      "\u001b[0;31m---------------------------------------------------------------------------\u001b[0m",
      "\u001b[0;31mValueError\u001b[0m                                Traceback (most recent call last)",
      "\u001b[1;32m/home/ichakr2s/my_projects/BDD10-DA-Yolov5/BDD10-DA-Yolov5/IS_Aug/IS_Automation.ipynb Cell 8\u001b[0m in \u001b[0;36m<cell line: 5>\u001b[0;34m()\u001b[0m\n\u001b[1;32m     <a href='vscode-notebook-cell://ssh-remote%2B7b22686f73744e616d65223a22497368616e227d/home/ichakr2s/my_projects/BDD10-DA-Yolov5/BDD10-DA-Yolov5/IS_Aug/IS_Automation.ipynb#W4sdnNjb2RlLXJlbW90ZQ%3D%3D?line=32'>33</a>\u001b[0m \u001b[39mif\u001b[39;00m \u001b[39mlen\u001b[39m(idx_1_2) \u001b[39m>\u001b[39m \u001b[39m0\u001b[39m:\n\u001b[1;32m     <a href='vscode-notebook-cell://ssh-remote%2B7b22686f73744e616d65223a22497368616e227d/home/ichakr2s/my_projects/BDD10-DA-Yolov5/BDD10-DA-Yolov5/IS_Aug/IS_Automation.ipynb#W4sdnNjb2RlLXJlbW90ZQ%3D%3D?line=33'>34</a>\u001b[0m     \u001b[39mfor\u001b[39;00m swap_idx \u001b[39min\u001b[39;00m \u001b[39mrange\u001b[39m(\u001b[39mlen\u001b[39m(idx_1_2)):\n\u001b[0;32m---> <a href='vscode-notebook-cell://ssh-remote%2B7b22686f73744e616d65223a22497368616e227d/home/ichakr2s/my_projects/BDD10-DA-Yolov5/BDD10-DA-Yolov5/IS_Aug/IS_Automation.ipynb#W4sdnNjb2RlLXJlbW90ZQ%3D%3D?line=34'>35</a>\u001b[0m         ii2, ii1 \u001b[39m=\u001b[39m swap(img1, img2, idx_1_2, swap_idx)\n\u001b[1;32m     <a href='vscode-notebook-cell://ssh-remote%2B7b22686f73744e616d65223a22497368616e227d/home/ichakr2s/my_projects/BDD10-DA-Yolov5/BDD10-DA-Yolov5/IS_Aug/IS_Automation.ipynb#W4sdnNjb2RlLXJlbW90ZQ%3D%3D?line=35'>36</a>\u001b[0m         img_name2 \u001b[39m=\u001b[39m img2[\u001b[39m'\u001b[39m\u001b[39mname\u001b[39m\u001b[39m'\u001b[39m][:\u001b[39m-\u001b[39m\u001b[39m4\u001b[39m] \u001b[39m+\u001b[39m \u001b[39m'\u001b[39m\u001b[39m_\u001b[39m\u001b[39m'\u001b[39m \u001b[39m+\u001b[39m \u001b[39mstr\u001b[39m(idx_1_2[swap_idx][\u001b[39m1\u001b[39m]) \u001b[39m+\u001b[39m \u001b[39m'\u001b[39m\u001b[39m__\u001b[39m\u001b[39m'\u001b[39m \u001b[39m+\u001b[39m img1[\u001b[39m'\u001b[39m\u001b[39mname\u001b[39m\u001b[39m'\u001b[39m][:\u001b[39m-\u001b[39m\u001b[39m4\u001b[39m] \u001b[39m+\u001b[39m \u001b[39m'\u001b[39m\u001b[39m_\u001b[39m\u001b[39m'\u001b[39m \u001b[39m+\u001b[39m \u001b[39mstr\u001b[39m(idx_1_2[swap_idx][\u001b[39m0\u001b[39m])\n\u001b[1;32m     <a href='vscode-notebook-cell://ssh-remote%2B7b22686f73744e616d65223a22497368616e227d/home/ichakr2s/my_projects/BDD10-DA-Yolov5/BDD10-DA-Yolov5/IS_Aug/IS_Automation.ipynb#W4sdnNjb2RlLXJlbW90ZQ%3D%3D?line=36'>37</a>\u001b[0m         cv2\u001b[39m.\u001b[39mimwrite(output_location \u001b[39m+\u001b[39m \u001b[39m'\u001b[39m\u001b[39msynth_images/\u001b[39m\u001b[39m'\u001b[39m \u001b[39m+\u001b[39m img_name2 \u001b[39m+\u001b[39m \u001b[39m'\u001b[39m\u001b[39m.jpg\u001b[39m\u001b[39m'\u001b[39m, ii2)\n",
      "\u001b[1;32m/home/ichakr2s/my_projects/BDD10-DA-Yolov5/BDD10-DA-Yolov5/IS_Aug/IS_Automation.ipynb Cell 8\u001b[0m in \u001b[0;36mswap\u001b[0;34m(i1, i2, idx_1_2, swap_idx)\u001b[0m\n\u001b[1;32m     <a href='vscode-notebook-cell://ssh-remote%2B7b22686f73744e616d65223a22497368616e227d/home/ichakr2s/my_projects/BDD10-DA-Yolov5/BDD10-DA-Yolov5/IS_Aug/IS_Automation.ipynb#W4sdnNjb2RlLXJlbW90ZQ%3D%3D?line=52'>53</a>\u001b[0m masked_image1\u001b[39m.\u001b[39mfill(\u001b[39m255\u001b[39m)\n\u001b[1;32m     <a href='vscode-notebook-cell://ssh-remote%2B7b22686f73744e616d65223a22497368616e227d/home/ichakr2s/my_projects/BDD10-DA-Yolov5/BDD10-DA-Yolov5/IS_Aug/IS_Automation.ipynb#W4sdnNjb2RlLXJlbW90ZQ%3D%3D?line=53'>54</a>\u001b[0m masking_obj1 \u001b[39m=\u001b[39m cv2\u001b[39m.\u001b[39mresize(masking_obj1, (xmax2\u001b[39m-\u001b[39mxmin2, ymax2\u001b[39m-\u001b[39mymin2), interpolation \u001b[39m=\u001b[39m cv2\u001b[39m.\u001b[39mINTER_AREA)\n\u001b[0;32m---> <a href='vscode-notebook-cell://ssh-remote%2B7b22686f73744e616d65223a22497368616e227d/home/ichakr2s/my_projects/BDD10-DA-Yolov5/BDD10-DA-Yolov5/IS_Aug/IS_Automation.ipynb#W4sdnNjb2RlLXJlbW90ZQ%3D%3D?line=54'>55</a>\u001b[0m masked_image1[ymin2:ymax2, xmin2:xmax2] \u001b[39m=\u001b[39m masking_obj1\n\u001b[1;32m     <a href='vscode-notebook-cell://ssh-remote%2B7b22686f73744e616d65223a22497368616e227d/home/ichakr2s/my_projects/BDD10-DA-Yolov5/BDD10-DA-Yolov5/IS_Aug/IS_Automation.ipynb#W4sdnNjb2RlLXJlbW90ZQ%3D%3D?line=55'>56</a>\u001b[0m img2_mask \u001b[39m=\u001b[39m np\u001b[39m.\u001b[39mvstack((((xmax2\u001b[39m-\u001b[39mxmin2)\u001b[39m/\u001b[39m\u001b[39mfloat\u001b[39m(xmax1\u001b[39m-\u001b[39mxmin1))\u001b[39m*\u001b[39mroi_norm1[:,\u001b[39m0\u001b[39m], ((ymax2\u001b[39m-\u001b[39mymin2)\u001b[39m/\u001b[39m\u001b[39mfloat\u001b[39m(ymax1\u001b[39m-\u001b[39mymin1))\u001b[39m*\u001b[39mroi_norm1[:,\u001b[39m1\u001b[39m]))\u001b[39m.\u001b[39mT    \n\u001b[1;32m     <a href='vscode-notebook-cell://ssh-remote%2B7b22686f73744e616d65223a22497368616e227d/home/ichakr2s/my_projects/BDD10-DA-Yolov5/BDD10-DA-Yolov5/IS_Aug/IS_Automation.ipynb#W4sdnNjb2RlLXJlbW90ZQ%3D%3D?line=56'>57</a>\u001b[0m mask2 \u001b[39m=\u001b[39m np\u001b[39m.\u001b[39mones(image2\u001b[39m.\u001b[39mshape, dtype\u001b[39m=\u001b[39mnp\u001b[39m.\u001b[39muint8)\n",
      "\u001b[0;31mValueError\u001b[0m: could not broadcast input array from shape (95,40,3) into shape (95,39,3)"
     ]
    }
   ],
   "source": [
    "f_high = 1.55\n",
    "f_low = 0.45\n",
    "scale_factor = 0.001\n",
    "\n",
    "for img1 in file_names:\n",
    "    for img2 in file_names:\n",
    "        if img1['name'] != img2['name']:\n",
    "            im1 = cv2.imread(train_location + img1['name'])\n",
    "            im2 = cv2.imread(train_location + img2['name'])\n",
    "            area_thresh = im1.shape[0] *  im1.shape[1] * scale_factor\n",
    "            idx_1_2 = []\n",
    "            for idx1, annot1 in enumerate(img1['labels']):\n",
    "                if annot1['category'] == 'person':\n",
    "                    shape1 = np.array(annot1['poly2d'][0]['vertices'])\n",
    "                    seg1 = Polygon(shape1)\n",
    "                    ann1_ratio = (np.max(shape1[:,1])-np.min(shape1[:,1]))/(np.max(shape1[:,0])-np.min(shape1[:,0]))\n",
    "                    area1 = seg1.area\n",
    "                    if area1 > area_thresh:\n",
    "                        for idx2, annot2 in enumerate(img2['labels']):\n",
    "                            if annot2['category'] == 'person':\n",
    "                                shape2 = np.array(annot2['poly2d'][0]['vertices'])\n",
    "                                seg2 = Polygon(shape2)\n",
    "                                ann2_ratio = (np.max(shape2[:,1])-np.min(shape2[:,1]))/(np.max(shape2[:,0])-np.min(shape2[:,0]))\n",
    "                                area2 = seg2.area\n",
    "                                if area2 > area_thresh:\n",
    "                                    f = area1/area2\n",
    "                                    if abs(ann2_ratio-ann1_ratio) < 1.:\n",
    "                                        if f < f_high and f > f_low:\n",
    "                                            idx_1_2.append([idx1, idx2])\n",
    "\n",
    "            idx_1_2 = np.array(idx_1_2)\n",
    "            \n",
    "            if len(idx_1_2) > 0:\n",
    "                for swap_idx in range(len(idx_1_2)):\n",
    "                    ii2, ii1 = swap(img1, img2, idx_1_2, swap_idx)\n",
    "                    img_name2 = img2['name'][:-4] + '_' + str(idx_1_2[swap_idx][1]) + '__' + img1['name'][:-4] + '_' + str(idx_1_2[swap_idx][0])\n",
    "                    cv2.imwrite(output_location + 'synth_images/' + img_name2 + '.jpg', ii2)\n",
    "                    make_label(img_name2, img2)\n",
    "                    img_name1 = img1['name'][:-4] + '_' + str(idx_1_2[swap_idx][0]) + '__' + img2['name'][:-4] + '_' + str(idx_1_2[swap_idx][1])\n",
    "                    cv2.imwrite(output_location + 'synth_images/' + img_name1 + '.jpg', ii1)                  \n",
    "                    make_label(img_name1, img1)\n"
   ]
  },
  {
   "cell_type": "code",
   "execution_count": null,
   "metadata": {},
   "outputs": [],
   "source": []
  }
 ],
 "metadata": {
  "kernelspec": {
   "display_name": "Python 3.8.1 ('BDD10-DA-Yolov5': conda)",
   "language": "python",
   "name": "python3"
  },
  "language_info": {
   "codemirror_mode": {
    "name": "ipython",
    "version": 3
   },
   "file_extension": ".py",
   "mimetype": "text/x-python",
   "name": "python",
   "nbconvert_exporter": "python",
   "pygments_lexer": "ipython3",
   "version": "3.8.1"
  },
  "orig_nbformat": 4,
  "vscode": {
   "interpreter": {
    "hash": "28e819611b9da552db2308feb575a63f93964633eede1beb0ca8e75a41c5ca6e"
   }
  }
 },
 "nbformat": 4,
 "nbformat_minor": 2
}
