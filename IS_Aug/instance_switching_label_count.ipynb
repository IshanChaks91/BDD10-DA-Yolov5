{
 "cells": [
  {
   "cell_type": "code",
   "execution_count": 1,
   "metadata": {},
   "outputs": [],
   "source": [
    "import cv2\n",
    "import json\n",
    "import glob\n",
    "import numpy as np\n",
    "import matplotlib.pyplot as plt\n",
    "from shapely.geometry import Polygon\n",
    "from matplotlib.patches import Polygon as Poly"
   ]
  },
  {
   "cell_type": "code",
   "execution_count": 28,
   "metadata": {},
   "outputs": [],
   "source": [
    "dir_location = '/scratch/ichakr2s/bdd100k/data/labels/10k/ins_seg/polygons/'\n",
    "train_location = '/scratch/ichakr2s/bdd100k/data/images/10k/train/'\n",
    "mosaic_location = '/scratch/ichakr2s/yolov5pytorch_aug/mosaic_bdd10k/Mosaic_Aug/train_zero/labels/actual_all/'\n",
    "is_location = '/scratch/ichakr2s/yolov5pytorch_aug/is_bdd10k/IS_Aug/train_zero/labels/'\n"
   ]
  },
  {
   "cell_type": "code",
   "execution_count": 4,
   "metadata": {},
   "outputs": [],
   "source": [
    "# with open('sample.json', 'r') as f:\n",
    "#   data = json.load(f)\n",
    "\n",
    "with open(dir_location + 'ins_seg_train.json', 'r') as f:\n",
    "    bdd_data = json.load(f)\n"
   ]
  },
  {
   "cell_type": "code",
   "execution_count": 5,
   "metadata": {},
   "outputs": [
    {
     "data": {
      "text/plain": [
       "['car',\n",
       " 'person',\n",
       " 'truck',\n",
       " 'bus',\n",
       " 'bicycle',\n",
       " 'rider',\n",
       " 'trailer',\n",
       " 'motorcycle',\n",
       " 'caravan',\n",
       " 'train']"
      ]
     },
     "execution_count": 5,
     "metadata": {},
     "output_type": "execute_result"
    }
   ],
   "source": [
    "bdd10k_category_list = []\n",
    "for img in bdd_data:\n",
    "    for properties in img['labels']:\n",
    "        if properties['category'] not in bdd10k_category_list:\n",
    "            bdd10k_category_list.append(properties['category'])\n",
    "bdd10k_category_list"
   ]
  },
  {
   "cell_type": "code",
   "execution_count": 6,
   "metadata": {},
   "outputs": [
    {
     "data": {
      "text/plain": [
       "{'car': 71875,\n",
       " 'person': 9963,\n",
       " 'truck': 3745,\n",
       " 'bus': 1638,\n",
       " 'bicycle': 830,\n",
       " 'rider': 471,\n",
       " 'trailer': 108,\n",
       " 'motorcycle': 396,\n",
       " 'caravan': 359,\n",
       " 'train': 65}"
      ]
     },
     "execution_count": 6,
     "metadata": {},
     "output_type": "execute_result"
    }
   ],
   "source": [
    "instance_count = dict()\n",
    "for cat in bdd10k_category_list:\n",
    "    cat_count = 0\n",
    "    for idx in range(len(bdd_data)):\n",
    "        for lab in range(len(bdd_data[idx]['labels'])):\n",
    "            if bdd_data[idx]['labels'][lab]['category'] == cat:\n",
    "                cat_count += 1\n",
    "    instance_count[cat] = cat_count\n",
    "instance_count"
   ]
  },
  {
   "cell_type": "code",
   "execution_count": 27,
   "metadata": {},
   "outputs": [
    {
     "data": {
      "text/plain": [
       "{'car': 117506,\n",
       " 'person': 28654,\n",
       " 'truck': 8874,\n",
       " 'bus': 5808,\n",
       " 'bicycle': 5954,\n",
       " 'rider': 4617,\n",
       " 'trailer': 2365,\n",
       " 'motorcycle': 3349,\n",
       " 'caravan': 3208,\n",
       " 'train': 2179}"
      ]
     },
     "execution_count": 27,
     "metadata": {},
     "output_type": "execute_result"
    }
   ],
   "source": [
    "mosaic_instance_count = dict()\n",
    "for cat in bdd10k_category_list:\n",
    "    mosaic_instance_count[cat] = 0\n",
    "\n",
    "for cat in bdd10k_category_list:\n",
    "    if cat != 'car':\n",
    "        for file in glob.glob(mosaic_location + cat + '/*.txt'):\n",
    "            with open(file) as f:\n",
    "                lines = np.array(f.readlines())\n",
    "                for line in lines:\n",
    "                    mosaic_instance_count[bdd10k_category_list[int(line[0])]] += 1\n",
    "mosaic_instance_count"
   ]
  },
  {
   "cell_type": "code",
   "execution_count": 29,
   "metadata": {},
   "outputs": [
    {
     "data": {
      "text/plain": [
       "{'car': 85773,\n",
       " 'person': 64023,\n",
       " 'truck': 7500,\n",
       " 'bus': 4010,\n",
       " 'bicycle': 4127,\n",
       " 'rider': 1884,\n",
       " 'trailer': 221,\n",
       " 'motorcycle': 1089,\n",
       " 'caravan': 699,\n",
       " 'train': 170}"
      ]
     },
     "execution_count": 29,
     "metadata": {},
     "output_type": "execute_result"
    }
   ],
   "source": [
    "is_instance_count = dict()\n",
    "for cat in bdd10k_category_list:\n",
    "    is_instance_count[cat] = 0\n",
    "\n",
    "for cat in bdd10k_category_list:\n",
    "    if cat != 'car':\n",
    "        for file in glob.glob(is_location + cat + '/*.txt'):\n",
    "            with open(file) as f:\n",
    "                lines = np.array(f.readlines())\n",
    "                for line in lines:\n",
    "                    is_instance_count[bdd10k_category_list[int(line[0])]] += 1\n",
    "is_instance_count"
   ]
  }
 ],
 "metadata": {
  "kernelspec": {
   "display_name": "Python 3.8.1 ('BDD10-DA-Yolov5': conda)",
   "language": "python",
   "name": "python3"
  },
  "language_info": {
   "codemirror_mode": {
    "name": "ipython",
    "version": 3
   },
   "file_extension": ".py",
   "mimetype": "text/x-python",
   "name": "python",
   "nbconvert_exporter": "python",
   "pygments_lexer": "ipython3",
   "version": "3.8.1"
  },
  "varInspector": {
   "cols": {
    "lenName": 16,
    "lenType": 16,
    "lenVar": 40
   },
   "kernels_config": {
    "python": {
     "delete_cmd_postfix": "",
     "delete_cmd_prefix": "del ",
     "library": "var_list.py",
     "varRefreshCmd": "print(var_dic_list())"
    },
    "r": {
     "delete_cmd_postfix": ") ",
     "delete_cmd_prefix": "rm(",
     "library": "var_list.r",
     "varRefreshCmd": "cat(var_dic_list()) "
    }
   },
   "types_to_exclude": [
    "module",
    "function",
    "builtin_function_or_method",
    "instance",
    "_Feature"
   ],
   "window_display": false
  },
  "vscode": {
   "interpreter": {
    "hash": "28e819611b9da552db2308feb575a63f93964633eede1beb0ca8e75a41c5ca6e"
   }
  }
 },
 "nbformat": 4,
 "nbformat_minor": 2
}
