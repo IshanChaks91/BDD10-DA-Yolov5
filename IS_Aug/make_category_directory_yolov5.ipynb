{
 "cells": [
  {
   "cell_type": "code",
   "execution_count": 1,
   "metadata": {},
   "outputs": [],
   "source": [
    "import cv2\n",
    "import numpy as np\n",
    "import json\n",
    "import glob\n",
    "import matplotlib.pyplot as plt\n",
    "from shapely.geometry import Polygon\n",
    "from matplotlib.patches import Polygon as Poly\n",
    "import os\n",
    "import shutil"
   ]
  },
  {
   "cell_type": "code",
   "execution_count": 40,
   "metadata": {},
   "outputs": [],
   "source": [
    "train_label_location = '/scratch/ichakr2s/yolov5pytorch/train/labels/'\n",
    "val_label_location = '/scratch/ichakr2s/yolov5pytorch/val/labels/'\n",
    "train_img_location = '/scratch/ichakr2s/yolov5pytorch/train/images/'\n",
    "val_image_location = '/scratch/ichakr2s/yolov5pytorch/val/images/'\n",
    "train_category_dir_location = '/scratch/ichakr2s/yolov5pytorch_aug/train/'\n",
    "val_category_dir_location = '/scratch/ichakr2s/yolov5pytorch_aug/val/'"
   ]
  },
  {
   "cell_type": "code",
   "execution_count": 3,
   "metadata": {},
   "outputs": [],
   "source": [
    "# read train and val label jsons from bdd10k format\n",
    "\n",
    "bdd10k_train_label_location = '/scratch/ichakr2s/bdd100k/data/labels/10k/ins_seg/polygons/ins_seg_train.json'\n",
    "bdd10k_val_label_location = '/scratch/ichakr2s/bdd100k/data/labels/10k/ins_seg/polygons/ins_seg_val.json'\n",
    "\n",
    "with open(bdd10k_train_label_location, 'r') as f:\n",
    "    bdd10k_train_json = json.load(f)\n",
    "with open(bdd10k_val_label_location, 'r') as f:\n",
    "    bdd10k_val_json = json.load(f)"
   ]
  },
  {
   "cell_type": "code",
   "execution_count": 7,
   "metadata": {},
   "outputs": [
    {
     "data": {
      "text/plain": [
       "['car',\n",
       " 'person',\n",
       " 'truck',\n",
       " 'bus',\n",
       " 'bicycle',\n",
       " 'rider',\n",
       " 'trailer',\n",
       " 'motorcycle',\n",
       " 'caravan',\n",
       " 'train']"
      ]
     },
     "execution_count": 7,
     "metadata": {},
     "output_type": "execute_result"
    }
   ],
   "source": [
    "bdd10k_category_list = []\n",
    "for img in bdd10k_train_json:\n",
    "  for properties in img['labels']:\n",
    "    if properties['category'] not in bdd10k_category_list:\n",
    "      bdd10k_category_list.append(properties['category'])\n",
    "for img in bdd10k_val_json:\n",
    "  for properties in img['labels']:\n",
    "    if properties['category'] not in bdd10k_category_list:\n",
    "      bdd10k_category_list.append(properties['category'])\n",
    "bdd10k_category_list"
   ]
  },
  {
   "cell_type": "code",
   "execution_count": 16,
   "metadata": {},
   "outputs": [],
   "source": [
    "# create directories for each categories in yolov5pytorch_aug/train\n",
    "# each category directory will contain images and labels folder\n",
    "\n",
    "for category in bdd10k_category_list:\n",
    "  if not os.path.exists(train_category_dir_location + category):\n",
    "    os.makedirs(train_category_dir_location + category)\n",
    "  if not os.path.exists(train_category_dir_location + category + '/images'):\n",
    "    os.makedirs(train_category_dir_location + category + '/images')\n",
    "  if not os.path.exists(train_category_dir_location + category + '/labels'):\n",
    "    os.makedirs(train_category_dir_location + category + '/labels')"
   ]
  },
  {
   "cell_type": "code",
   "execution_count": 27,
   "metadata": {},
   "outputs": [],
   "source": [
    "# create directories for each categories in yolov5pytorch_aug/val\n",
    "# each category directory will contain images and labels folder\n",
    "\n",
    "for category in bdd10k_category_list:\n",
    "  if not os.path.exists(val_category_dir_location + category):\n",
    "    os.makedirs(val_category_dir_location + category)\n",
    "  if not os.path.exists(val_category_dir_location + category + '/images'):\n",
    "    os.makedirs(val_category_dir_location + category + '/images')\n",
    "  if not os.path.exists(val_category_dir_location + category + '/labels'):\n",
    "    os.makedirs(val_category_dir_location + category + '/labels')"
   ]
  },
  {
   "cell_type": "code",
   "execution_count": 19,
   "metadata": {},
   "outputs": [],
   "source": [
    "# copy label text files to new yolov5pytorch_aug/<category>/labels/ location for train\n",
    "\n",
    "for filename in os.listdir(\"/scratch/ichakr2s/yolov5pytorch/train/labels/\"):\n",
    "    with open('/scratch/ichakr2s/yolov5pytorch/train/labels/' + filename, 'r') as f:\n",
    "        lines = f.readlines()\n",
    "    for line in lines:\n",
    "        var = bdd10k_category_list[int(line[0])]\n",
    "        shutil.copyfile(train_label_location + filename, \n",
    "                            train_category_dir_location + var + '/labels/' + filename)\n"
   ]
  },
  {
   "cell_type": "code",
   "execution_count": 28,
   "metadata": {},
   "outputs": [],
   "source": [
    "# copy label text files to new yolov5pytorch_aug/<category>/labels/ location for val\n",
    "\n",
    "for filename in os.listdir(val_label_location):\n",
    "    with open(val_label_location + filename, 'r') as f:\n",
    "        lines = f.readlines()\n",
    "    for line in lines:\n",
    "        var = bdd10k_category_list[int(line[0])]\n",
    "        shutil.copyfile(val_label_location + filename, \n",
    "                            val_category_dir_location + var + '/labels/' + filename)"
   ]
  },
  {
   "cell_type": "code",
   "execution_count": 38,
   "metadata": {},
   "outputs": [],
   "source": [
    "# copy images from yolov5pytorch to yolov5pytorch_aug/<category>/images/ location for train\n",
    "\n",
    "for cat in bdd10k_category_list:\n",
    "    for filename in os.listdir(train_category_dir_location + cat + '/labels/'):\n",
    "        shutil.copyfile(train_img_location + filename[:-4] + '.jpg', \n",
    "                train_category_dir_location + cat + '/images/' + filename[:-4] + '.jpg')"
   ]
  },
  {
   "cell_type": "code",
   "execution_count": 41,
   "metadata": {},
   "outputs": [],
   "source": [
    "# copy images from yolov5pytorch to yolov5pytorch_aug/<category>/images/ location for val\n",
    "\n",
    "for cat in bdd10k_category_list:\n",
    "    for filename in os.listdir(val_category_dir_location + cat + '/labels/'):\n",
    "        shutil.copyfile(val_image_location + filename[:-4] + '.jpg', \n",
    "                val_category_dir_location + cat + '/images/' + filename[:-4] + '.jpg')"
   ]
  },
  {
   "cell_type": "code",
   "execution_count": 18,
   "metadata": {},
   "outputs": [
    {
     "data": {
      "text/plain": [
       "['0 0.3830034347195915 0.5656648012775516 0.06081784959775631 0.04041401814266139\\n',\n",
       " '0 0.31199467684387 0.5648852714094696 0.059439924084879615 0.02927050838608633\\n',\n",
       " '1 0.8550085752844294 0.5505288871961359 0.04198032584257767 0.17203872695886946\\n',\n",
       " '0 0.23600771454948943 0.5649839433005839 0.05523236888298637 0.0216308663341139\\n',\n",
       " '0 0.8741159357125591 0.5204959672407379 0.014193986521831015 0.042984438262893575\\n',\n",
       " '0 0.8931159647245985 0.5123743605823697 0.010474183157488959 0.04629093351388541\\n',\n",
       " '0 0.9132573348951472 0.5080608107298736 0.004160353805243133 0.05098963729161052\\n',\n",
       " '0 0.9264745974897757 0.5047052130581713 0.020790655471144247 0.05606427865207569\\n',\n",
       " '0 0.9505293786790533 0.5073422098956688 0.026388773609454397 0.04746766323121613\\n',\n",
       " '0 0.9721932831450397 0.514833443717719 0.004502303054335144 0.016415059306325315\\n',\n",
       " '0 0.6400192421068371 0.6022372393594942 0.20080054363313532 0.29507764852594465\\n']"
      ]
     },
     "execution_count": 18,
     "metadata": {},
     "output_type": "execute_result"
    }
   ],
   "source": [
    "lines"
   ]
  }
 ],
 "metadata": {
  "kernelspec": {
   "display_name": "Python 3.8.1 ('BDD10-DA-Yolov5': conda)",
   "language": "python",
   "name": "python3"
  },
  "language_info": {
   "codemirror_mode": {
    "name": "ipython",
    "version": 3
   },
   "file_extension": ".py",
   "mimetype": "text/x-python",
   "name": "python",
   "nbconvert_exporter": "python",
   "pygments_lexer": "ipython3",
   "version": "3.8.1"
  },
  "orig_nbformat": 4,
  "vscode": {
   "interpreter": {
    "hash": "28e819611b9da552db2308feb575a63f93964633eede1beb0ca8e75a41c5ca6e"
   }
  }
 },
 "nbformat": 4,
 "nbformat_minor": 2
}
